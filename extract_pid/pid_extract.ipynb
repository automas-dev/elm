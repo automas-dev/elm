{
 "cells": [
  {
   "cell_type": "code",
   "execution_count": null,
   "id": "81b3c755",
   "metadata": {},
   "outputs": [],
   "source": [
    "import re\n",
    "\n",
    "import pandas as pd\n",
    "from bs4 import BeautifulSoup"
   ]
  },
  {
   "cell_type": "code",
   "execution_count": null,
   "id": "f66b0e93",
   "metadata": {},
   "outputs": [],
   "source": [
    "with open(\"pid_table.html\", \"r\") as f:\n",
    "    soup = BeautifulSoup(f.read(), \"html.parser\")\n",
    "table = soup.find(\"table\")"
   ]
  },
  {
   "cell_type": "code",
   "execution_count": null,
   "id": "4e64c383",
   "metadata": {},
   "outputs": [],
   "source": [
    "table_header = table.find(\"thead\")\n",
    "col_headers = [el.text.strip() for el in table_header.find_all(\"th\")]\n",
    "col_headers[col_headers.index(\"Data bytes\\n                    returned\")] = (\n",
    "    \"Data bytes returned\"\n",
    ")"
   ]
  },
  {
   "cell_type": "code",
   "execution_count": null,
   "id": "2bcb2fc6",
   "metadata": {},
   "outputs": [],
   "source": [
    "data = []\n",
    "table_body = table.find(\"tbody\")\n",
    "rows = table_body.find_all(\"tr\")\n",
    "for row in rows:\n",
    "    cols = row.find_all(\"td\")\n",
    "    cols = [ele.text.strip() for ele in cols]\n",
    "    data.append([ele for ele in cols if ele])  # Get rid of empty values"
   ]
  },
  {
   "cell_type": "code",
   "execution_count": null,
   "id": "2f278b69",
   "metadata": {},
   "outputs": [],
   "source": [
    "df = pd.DataFrame(data, columns=col_headers)\n",
    "df = df.fillna(\"\")\n",
    "df = df.rename(\n",
    "    columns={\n",
    "        \"Formula[a]\": \"Formula\",\n",
    "        \"Data bytes returned\": \"Data bytes\",\n",
    "        \"Min value\": \"Min\",\n",
    "        \"Max value\": \"Max\",\n",
    "        \"PID(Dec)\": \"PID\",\n",
    "    }\n",
    ")\n",
    "df = df.drop(\"PIDs(hex)\", axis=1)\n",
    "for col in df.columns:\n",
    "    df[col] = df[col].apply(\n",
    "        lambda x: \" \".join(filter(len, map(str.strip, x.split(\"\\n\"))))\n",
    "    )\n",
    "df[\"Formula_raw\"] = df[\"Formula\"]\n",
    "for col in [\"Formula\"]:\n",
    "    if col.endswith(\"_raw\"):\n",
    "        continue\n",
    "    df[col] = (\n",
    "        df[col]\n",
    "        .apply(lambda x: re.sub(r\"\\\\t?frac {([^}]+)}{([^}]+)}\", r\"(\\1/\\2)\", x))\n",
    "        .apply(lambda x: re.sub(r\"\\\\displaystyle {([^}]+)}\", r\"\\1\", x))\n",
    "        .apply(lambda x: re.sub(r\"{\\\\displaystyle ([^}]+)}\", r\"(\\1)\", x))\n",
    "        .apply(lambda x: re.sub(r\"{|}\", r\"\", x))\n",
    "    )\n",
    "df.to_csv(\"../pid_table.csv\", index=False)\n",
    "df"
   ]
  }
 ],
 "metadata": {
  "kernelspec": {
   "display_name": ".venv",
   "language": "python",
   "name": "python3"
  },
  "language_info": {
   "codemirror_mode": {
    "name": "ipython",
    "version": 3
   },
   "file_extension": ".py",
   "mimetype": "text/x-python",
   "name": "python",
   "nbconvert_exporter": "python",
   "pygments_lexer": "ipython3",
   "version": "3.13.2"
  }
 },
 "nbformat": 4,
 "nbformat_minor": 5
}

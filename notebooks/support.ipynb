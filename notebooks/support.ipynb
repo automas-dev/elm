{
 "cells": [
  {
   "cell_type": "code",
   "execution_count": null,
   "id": "ab151a2d",
   "metadata": {},
   "outputs": [],
   "source": [
    "%load_ext autoreload\n",
    "%autoreload 2"
   ]
  },
  {
   "cell_type": "code",
   "execution_count": null,
   "id": "ea729ce3",
   "metadata": {},
   "outputs": [],
   "source": [
    "import pandas as pd\n",
    "\n",
    "from elm import ElmClient"
   ]
  },
  {
   "cell_type": "code",
   "execution_count": null,
   "id": "9ffc9684",
   "metadata": {},
   "outputs": [],
   "source": [
    "client = ElmClient(\"/dev/ttyUSB1\")"
   ]
  },
  {
   "cell_type": "code",
   "execution_count": null,
   "id": "8714dd83",
   "metadata": {},
   "outputs": [],
   "source": [
    "support = client.scan_pid_support()\n",
    "print(support)\n",
    "ecu_dfs = [\n",
    "    pd.DataFrame({\"ecu\": ecu, \"PID\": ecu_support})\n",
    "    for ecu, ecu_support in enumerate(support)\n",
    "]\n",
    "ecu_df = pd.concat(ecu_dfs).reset_index(drop=True)"
   ]
  },
  {
   "cell_type": "code",
   "execution_count": null,
   "id": "8dded2d1",
   "metadata": {},
   "outputs": [],
   "source": [
    "pid_table = pd.read_csv(\"../pid_table.csv\")"
   ]
  },
  {
   "cell_type": "code",
   "execution_count": null,
   "id": "a802ae3a",
   "metadata": {},
   "outputs": [],
   "source": [
    "merged_df = ecu_df.merge(pid_table, on=\"PID\", how=\"left\")\n",
    "merged_df.to_csv(\"../kia_pid_support.csv\", index=False)\n",
    "# merged_df"
   ]
  },
  {
   "cell_type": "code",
   "execution_count": null,
   "id": "3dd3041f",
   "metadata": {},
   "outputs": [],
   "source": [
    "support_set = set()\n",
    "for _, group in merged_df.groupby(\"ecu\"):\n",
    "    if len(support_set) == 0:\n",
    "        support_set = set(group[\"PID\"])\n",
    "    support_set.intersection(set(group[\"PID\"]))\n",
    "print(support_set)\n",
    "all_support_df = merged_df[merged_df[\"PID\"].isin(support_set)]\n",
    "all_support_df = all_support_df[all_support_df[\"ecu\"] == 0]\n",
    "all_support_df.to_csv(\"kia_ecu_pid_all_support.csv\", index=False)\n",
    "# all_support_df"
   ]
  },
  {
   "cell_type": "code",
   "execution_count": null,
   "id": "e4fc0bda",
   "metadata": {},
   "outputs": [],
   "source": [
    "ecu_unique = merged_df[~merged_df[\"PID\"].isin(support_set)]\n",
    "ecu_unique.to_csv(\"kia_ecu_pid_unique_support.csv\", index=False)\n",
    "ecu_unique"
   ]
  }
 ],
 "metadata": {
  "kernelspec": {
   "display_name": ".venv",
   "language": "python",
   "name": "python3"
  },
  "language_info": {
   "codemirror_mode": {
    "name": "ipython",
    "version": 3
   },
   "file_extension": ".py",
   "mimetype": "text/x-python",
   "name": "python",
   "nbconvert_exporter": "python",
   "pygments_lexer": "ipython3",
   "version": "3.13.2"
  }
 },
 "nbformat": 4,
 "nbformat_minor": 5
}

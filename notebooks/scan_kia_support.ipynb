{
 "cells": [
  {
   "cell_type": "code",
   "execution_count": null,
   "id": "ab151a2d",
   "metadata": {},
   "outputs": [],
   "source": [
    "%load_ext autoreload\n",
    "%autoreload 2"
   ]
  },
  {
   "cell_type": "code",
   "execution_count": null,
   "id": "ea729ce3",
   "metadata": {},
   "outputs": [],
   "source": [
    "import pandas as pd\n",
    "\n",
    "from elm import ElmClient"
   ]
  },
  {
   "cell_type": "code",
   "execution_count": null,
   "id": "9ffc9684",
   "metadata": {},
   "outputs": [],
   "source": [
    "client = ElmClient(\"/dev/ttyUSB1\")"
   ]
  },
  {
   "cell_type": "code",
   "execution_count": null,
   "id": "8714dd83",
   "metadata": {},
   "outputs": [],
   "source": [
    "support = client.scan_pid_support()\n",
    "print(len(support))\n",
    "print(support)"
   ]
  },
  {
   "cell_type": "code",
   "execution_count": null,
   "id": "8dded2d1",
   "metadata": {},
   "outputs": [],
   "source": [
    "pid_table = pd.read_csv(\"../pid_table.csv\")"
   ]
  },
  {
   "cell_type": "code",
   "execution_count": null,
   "id": "a802ae3a",
   "metadata": {},
   "outputs": [],
   "source": [
    "support_df = pid_table[pid_table[\"PID\"].isin(support)]\n",
    "support_df.to_csv(\"../kia_pid_support.csv\", index=False)\n",
    "support_df"
   ]
  }
 ],
 "metadata": {
  "kernelspec": {
   "display_name": ".venv",
   "language": "python",
   "name": "python3"
  },
  "language_info": {
   "codemirror_mode": {
    "name": "ipython",
    "version": 3
   },
   "file_extension": ".py",
   "mimetype": "text/x-python",
   "name": "python",
   "nbconvert_exporter": "python",
   "pygments_lexer": "ipython3",
   "version": "3.13.3"
  }
 },
 "nbformat": 4,
 "nbformat_minor": 5
}
